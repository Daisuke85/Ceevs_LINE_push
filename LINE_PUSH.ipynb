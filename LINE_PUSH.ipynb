{
 "cells": [
  {
   "cell_type": "code",
   "execution_count": 27,
   "id": "fef4ea46",
   "metadata": {},
   "outputs": [],
   "source": [
    "##import##\n",
    "import urllib3\n",
    "from datetime import datetime, timedelta\n",
    "import json\n",
    "import time\n",
    "import re\n",
    "import numpy\n",
    "import pandas as pd\n",
    "import requests\n",
    "from bs4 import BeautifulSoup\n",
    "import pytz\n",
    "import os\n",
    "import japanize_matplotlib\n",
    "import matplotlib.pyplot as plt\n",
    "from matplotlib.font_manager import FontProperties\n",
    "import jpholiday\n",
    "\n",
    "#####################################################################\n",
    "##初期設定##\n",
    "\n",
    "#LINE APIKey\n",
    "push_line_key = \"Bearer aSh7A6HQaSchUPYTEEfZFSCk/KRlAK6pFCD/ezu86qSkGcy0yTyulibAW6c06wQgMMIrnpsHLmKDrZvRyrqWrg2fOfawQPJDxGhFQeLXWp2l+V+6jEvotSQxO4KVDcbAloRcIP405UtKHQa+NJj11QdB04t89/1O/w1cDnyilFU=\"\n",
    "get_line_key = \"Bearer UOgOLwhPapXtmUS2u+7yC/X/T5AGfMMLATXOxvoLUZm24rzNlijMyzUc0S60chOcpXixgRY4voaEolEKgAKmocxL/BKRt30+zXPBCm5EU1Obi6hZIpP6+AleE20VaWB5aBN4ZTIVgf1u5Iwc29Y+DQdB04t89/1O/w1cDnyilFU=\"\n",
    "\n",
    "\n",
    "###########################################################################\n",
    "# ラインにメッセを送信\n",
    "def push_line_msg(auth_key, msg):\n",
    "    headers = {\"Authorization\": auth_key, \"Content-Type\": \"application/json\"}\n",
    "\n",
    "    res = requests.post(\n",
    "        \"https://api.line.me/v2/bot/message/broadcast\",\n",
    "        headers=headers,\n",
    "        json={\"messages\": [{\"type\": \"text\", \"text\": msg}]},\n",
    "    ).json()\n",
    "\n",
    "\n",
    "# ラインに画像を送信\n",
    "def push_line_img(auth_key, image_url):\n",
    "    headers = {\"Authorization\": auth_key, \"Content-Type\": \"application/json\"}\n",
    "    res = requests.post(\n",
    "        \"https://api.line.me/v2/bot/message/broadcast\",\n",
    "        headers=headers,\n",
    "        json={\n",
    "            \"messages\": [\n",
    "                {\n",
    "                    \"type\": \"image\",\n",
    "                    \"originalContentUrl\": image_url,\n",
    "                    \"previewImageUrl\": image_url,\n",
    "                }\n",
    "            ]\n",
    "        },\n",
    "    ).json()\n",
    "\n",
    "#指定した日付のlineインサイトを取得\n",
    "def get_line_insight(auth_key,date_text):\n",
    "        \n",
    "    headers = {\"Authorization\": get_line_key, \"Content-Type\": \"application/json\"}\n",
    "\n",
    "    res = requests.get(\n",
    "        \" https://api.line.me/v2/bot/insight/followers?date=\"+date_text,\n",
    "        headers=headers,\n",
    "    )\n",
    "    \n",
    "    return res.json()    \n",
    "    \n"
   ]
  },
  {
   "cell_type": "code",
   "execution_count": 3,
   "id": "9e57a54c",
   "metadata": {},
   "outputs": [],
   "source": [
    "msg = \"test\"\n",
    "push_line_msg(push_line_key,msg)"
   ]
  },
  {
   "cell_type": "code",
   "execution_count": 19,
   "id": "65ca4c45",
   "metadata": {},
   "outputs": [],
   "source": [
    "\n",
    "\n"
   ]
  },
  {
   "cell_type": "code",
   "execution_count": 7,
   "id": "91105ce1",
   "metadata": {},
   "outputs": [
    {
     "data": {
      "text/plain": [
       "{'status': 'ready', 'followers': 61, 'targetedReaches': 61, 'blocks': 0}"
      ]
     },
     "execution_count": 7,
     "metadata": {},
     "output_type": "execute_result"
    }
   ],
   "source": []
  },
  {
   "cell_type": "code",
   "execution_count": 17,
   "id": "b51997e4",
   "metadata": {},
   "outputs": [],
   "source": []
  },
  {
   "cell_type": "code",
   "execution_count": 119,
   "id": "fb113f22",
   "metadata": {},
   "outputs": [],
   "source": [
    "#日付を取得\n",
    "today_text = dt_now = datetime.now().strftime('%Y%m%d')\n",
    "yesterday_text = (datetime.now() - timedelta(1)).strftime('%Y%m%d')\n",
    "\n",
    "today_insight_json = get_line_insight(get_line_key,today_text)\n",
    "yesterday_insight_json = get_line_insight(get_line_key,yesterday_text)\n",
    "\n",
    "#pushテキストを作成\n",
    "push_text = \"【LINE OA】\\n{0}\\n・follower：{1}人({2:+}人)\\n・Block：{3}人({4:+}人)\".format(\n",
    "    datetime.now().strftime('%Y年%m月%d日'),\n",
    "    today_insight_json[\"followers\"],\n",
    "    today_insight_json[\"followers\"] - yesterday_insight_json[\"followers\"],\n",
    "    today_insight_json[\"blocks\"],\n",
    "    today_insight_json[\"blocks\"] - yesterday_insight_json[\"blocks\"])\n",
    "\n",
    "#テキストを送信\n",
    "push_line_msg(push_line_key,push_text)"
   ]
  },
  {
   "cell_type": "code",
   "execution_count": 29,
   "id": "a3cc89a2",
   "metadata": {},
   "outputs": [
    {
     "data": {
      "text/plain": [
       "{'status': 'ready', 'followers': 61, 'targetedReaches': 61, 'blocks': 0}"
      ]
     },
     "execution_count": 29,
     "metadata": {},
     "output_type": "execute_result"
    }
   ],
   "source": [
    "today_insight_json"
   ]
  },
  {
   "cell_type": "code",
   "execution_count": 30,
   "id": "53412c7e",
   "metadata": {},
   "outputs": [
    {
     "data": {
      "text/plain": [
       "{'status': 'ready', 'followers': 39, 'targetedReaches': 39, 'blocks': 0}"
      ]
     },
     "execution_count": 30,
     "metadata": {},
     "output_type": "execute_result"
    }
   ],
   "source": [
    "yesterday_insight_json"
   ]
  },
  {
   "cell_type": "code",
   "execution_count": 117,
   "id": "da10277b",
   "metadata": {},
   "outputs": [],
   "source": []
  },
  {
   "cell_type": "code",
   "execution_count": 118,
   "id": "b6c3042a",
   "metadata": {},
   "outputs": [
    {
     "name": "stdout",
     "output_type": "stream",
     "text": [
      "【LINE OA】\n",
      "2023年02月13日\n",
      "・follower：61人(+22人)\n",
      "・Block：0人(+0人)\n"
     ]
    }
   ],
   "source": [
    "print(push_text)"
   ]
  },
  {
   "cell_type": "code",
   "execution_count": null,
   "id": "1a4bc4b8",
   "metadata": {},
   "outputs": [],
   "source": []
  },
  {
   "cell_type": "code",
   "execution_count": null,
   "id": "7328d03d",
   "metadata": {},
   "outputs": [],
   "source": []
  }
 ],
 "metadata": {
  "kernelspec": {
   "display_name": "Python 3 (ipykernel)",
   "language": "python",
   "name": "python3"
  },
  "language_info": {
   "codemirror_mode": {
    "name": "ipython",
    "version": 3
   },
   "file_extension": ".py",
   "mimetype": "text/x-python",
   "name": "python",
   "nbconvert_exporter": "python",
   "pygments_lexer": "ipython3",
   "version": "3.9.6"
  }
 },
 "nbformat": 4,
 "nbformat_minor": 5
}
